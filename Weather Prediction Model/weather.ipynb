{
 "cells": [
  {
   "cell_type": "markdown",
   "id": "3b98a0bd-eff8-48ed-a1ca-82fdd7ae2ffd",
   "metadata": {
    "tags": []
   },
   "source": [
    "# Weather Prediction Model"
   ]
  },
  {
   "cell_type": "code",
   "execution_count": null,
   "id": "b3dbb4e7-745a-4028-a70c-bc90b3e308d9",
   "metadata": {
    "tags": []
   },
   "outputs": [],
   "source": [
    "import numpy as np\n",
    "import pandas as pd\n",
    "import matplotlib.pyplot as plt\n",
    "import seaborn as sns\n",
    "\n",
    "import warnings\n",
    "warnings.simplefilter(action='ignore', category=FutureWarning)"
   ]
  },
  {
   "cell_type": "code",
   "execution_count": null,
   "id": "d57f45a8-6c02-4412-9503-f8ec309cb5cc",
   "metadata": {
    "tags": []
   },
   "outputs": [],
   "source": [
    "data = pd.read_csv(\"weather.csv\")\n",
    "pd.set_option('display.max_columns', None)\n",
    "data.head()"
   ]
  },
  {
   "cell_type": "code",
   "execution_count": null,
   "id": "b00010e9-2292-4aa7-9ad2-e2f9b7216189",
   "metadata": {
    "tags": []
   },
   "outputs": [],
   "source": [
    "data.describe()"
   ]
  },
  {
   "cell_type": "code",
   "execution_count": null,
   "id": "c6ebda92-f26b-4d0b-b879-de513dadac63",
   "metadata": {
    "tags": []
   },
   "outputs": [],
   "source": [
    "data.info()"
   ]
  },
  {
   "cell_type": "code",
   "execution_count": null,
   "id": "38e6e92c-6456-47a6-a6ba-265dabe398b4",
   "metadata": {
    "tags": []
   },
   "outputs": [],
   "source": [
    "data.shape"
   ]
  },
  {
   "cell_type": "markdown",
   "id": "60a1cb65-09d5-46d9-aa16-f9c7220cc0d1",
   "metadata": {},
   "source": [
    "## Visualising the data"
   ]
  },
  {
   "cell_type": "code",
   "execution_count": null,
   "id": "bd918ae9-d81d-44bd-a232-1a581c007eb0",
   "metadata": {
    "tags": []
   },
   "outputs": [],
   "source": [
    "plt.figure(figsize=(15, 5))\n",
    "sns.displot(x='MaxTemp', data=data)\n",
    "plt.xlabel('Max Temp')\n",
    "plt.show()"
   ]
  },
  {
   "cell_type": "code",
   "execution_count": null,
   "id": "de39c430-c913-488e-a8e1-2ef2ec512297",
   "metadata": {
    "tags": []
   },
   "outputs": [],
   "source": [
    "plt.figure(figsize=(6, 5))\n",
    "sc = plt.scatter(x='MinTemp', y='MaxTemp', c='MaxTemp', cmap='viridis', data=data, marker='o')\n",
    "plt.colorbar(sc, label='Max Temp')\n",
    "plt.xlabel('MinTemp')\n",
    "plt.ylabel('Max Temp')\n",
    "plt.show()"
   ]
  },
  {
   "cell_type": "code",
   "execution_count": null,
   "id": "4a1679cd-ece8-45a4-8572-0872ec2ce086",
   "metadata": {
    "tags": []
   },
   "outputs": [],
   "source": [
    "plt.figure(figsize=(6, 5))\n",
    "hb = plt.hexbin(x='MinTemp', y='MaxTemp', cmap='Blues', data=data, gridsize=20)\n",
    "plt.colorbar(hb, label='Max Temp')\n",
    "plt.xlabel('MinTemp')\n",
    "plt.ylabel('Max Temp')\n",
    "plt.show()"
   ]
  },
  {
   "cell_type": "markdown",
   "id": "19e32eae-43e5-4344-958b-fe0de23a2cca",
   "metadata": {},
   "source": [
    "## Encoding the data"
   ]
  },
  {
   "cell_type": "code",
   "execution_count": null,
   "id": "3813e9d9-47fd-4dab-99ae-1c4e6fe3acd1",
   "metadata": {
    "tags": []
   },
   "outputs": [],
   "source": [
    "data['RainToday'] = data['RainToday'].replace({'No':0, 'Yes':1})\n",
    "data['RainTomorrow'] = data['RainTomorrow'].replace({'No':0, 'Yes':1})"
   ]
  },
  {
   "cell_type": "code",
   "execution_count": null,
   "id": "202d3418-0045-44d9-a379-0a8e3fac3197",
   "metadata": {
    "tags": []
   },
   "outputs": [],
   "source": [
    "from sklearn.preprocessing import LabelEncoder\n",
    "\n",
    "le = LabelEncoder()\n",
    "data['WindGustDir'] = le.fit_transform(data['WindGustDir'])\n",
    "data['WindDir9am'] = le.fit_transform(data['WindDir9am'])\n",
    "data['WindDir3pm'] = le.fit_transform(data['WindDir3pm'])"
   ]
  },
  {
   "cell_type": "code",
   "execution_count": null,
   "id": "200c7531-b5c2-4be2-8650-9a3b8a7befa4",
   "metadata": {
    "tags": []
   },
   "outputs": [],
   "source": [
    "data.head()"
   ]
  },
  {
   "cell_type": "markdown",
   "id": "6eb4e51c-2b15-47e0-8571-9d3d7ae2f4b9",
   "metadata": {
    "tags": []
   },
   "source": [
    "## Cleaning the data "
   ]
  },
  {
   "cell_type": "code",
   "execution_count": null,
   "id": "4393ccdd-a165-498f-8655-0991332ccbc7",
   "metadata": {
    "tags": []
   },
   "outputs": [],
   "source": [
    "# Filling missing values\n",
    "data['Sunshine'].fillna(data['Sunshine'].median(), inplace=True)\n",
    "data['WindGustSpeed'].fillna(data['WindGustSpeed'].median(), inplace=True)\n",
    "data['WindSpeed9am'].fillna(data['WindSpeed9am'].median(), inplace=True)"
   ]
  },
  {
   "cell_type": "code",
   "execution_count": null,
   "id": "e0b905ff-2d3f-4b90-bb7c-9d5f883d294a",
   "metadata": {
    "tags": []
   },
   "outputs": [],
   "source": [
    "data.info()"
   ]
  },
  {
   "cell_type": "markdown",
   "id": "86e76986-6dd3-4be0-8463-688fb27aa7a8",
   "metadata": {
    "tags": []
   },
   "source": [
    "## Splitting the data"
   ]
  },
  {
   "cell_type": "code",
   "execution_count": null,
   "id": "91ed3bb2-576d-4912-b53b-7203b6f7b606",
   "metadata": {
    "tags": []
   },
   "outputs": [],
   "source": [
    "y = data['MaxTemp']\n",
    "X = data.drop(['MaxTemp'], axis=1)"
   ]
  },
  {
   "cell_type": "code",
   "execution_count": null,
   "id": "27326cde-3d53-4e98-b937-c59dec137006",
   "metadata": {
    "tags": []
   },
   "outputs": [],
   "source": [
    "from sklearn.model_selection import train_test_split\n",
    "\n",
    "X_train, X_test, y_train, y_test = train_test_split(X, y, test_size=0.2, random_state=42)"
   ]
  },
  {
   "cell_type": "markdown",
   "id": "1bf67de2-be12-40d6-9f88-2d52fac4d3f9",
   "metadata": {
    "tags": []
   },
   "source": [
    "## Training the model"
   ]
  },
  {
   "cell_type": "code",
   "execution_count": null,
   "id": "3224d989-5954-453a-9e8b-c9795b6afde9",
   "metadata": {
    "tags": []
   },
   "outputs": [],
   "source": [
    "from sklearn.linear_model import LinearRegression\n",
    "from sklearn.metrics import mean_squared_error\n",
    "\n",
    "model = LinearRegression()\n",
    "model.fit(X_train, y_train)"
   ]
  },
  {
   "cell_type": "markdown",
   "id": "a6d6e72e-9423-4491-8ea2-01404948521f",
   "metadata": {},
   "source": [
    "## Evaluating the model"
   ]
  },
  {
   "cell_type": "code",
   "execution_count": null,
   "id": "3f51e979-4d73-4448-a2a8-16061864af21",
   "metadata": {
    "tags": []
   },
   "outputs": [],
   "source": [
    "model.score(X_test, y_test)"
   ]
  },
  {
   "cell_type": "code",
   "execution_count": null,
   "id": "1337385a-0cb2-42cf-b4e2-cb43adda9cc3",
   "metadata": {
    "tags": []
   },
   "outputs": [],
   "source": [
    "prediction = model.predict(X_test)\n",
    "print(f\"Mean Squared Error : {mean_squared_error(y_test, prediction)}\")"
   ]
  },
  {
   "cell_type": "code",
   "execution_count": null,
   "id": "e4717a7e-8222-4ed9-bfb8-249b54968d73",
   "metadata": {
    "tags": []
   },
   "outputs": [],
   "source": [
    "# Actual vs Predicted Values\n",
    "df = pd.DataFrame({'Actual':y_test.values.flatten(), 'Predicted':prediction.flatten()})\n",
    "print(df)"
   ]
  }
 ],
 "metadata": {
  "kernelspec": {
   "display_name": "Python 3 (ipykernel)",
   "language": "python",
   "name": "python3"
  },
  "language_info": {
   "codemirror_mode": {
    "name": "ipython",
    "version": 3
   },
   "file_extension": ".py",
   "mimetype": "text/x-python",
   "name": "python",
   "nbconvert_exporter": "python",
   "pygments_lexer": "ipython3",
   "version": "3.11.5"
  }
 },
 "nbformat": 4,
 "nbformat_minor": 5
}
