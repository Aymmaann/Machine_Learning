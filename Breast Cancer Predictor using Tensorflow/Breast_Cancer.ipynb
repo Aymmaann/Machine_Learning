{
  "nbformat": 4,
  "nbformat_minor": 0,
  "metadata": {
    "colab": {
      "provenance": []
    },
    "kernelspec": {
      "name": "python3",
      "display_name": "Python 3"
    },
    "language_info": {
      "name": "python"
    }
  },
  "cells": [
    {
      "cell_type": "markdown",
      "source": [
        "# **Breast Cancer Detection Model**"
      ],
      "metadata": {
        "id": "lof29NAOLzRl"
      }
    },
    {
      "cell_type": "markdown",
      "source": [
        "## Importing modules"
      ],
      "metadata": {
        "id": "nHtr_6c1L7eP"
      }
    },
    {
      "cell_type": "code",
      "source": [
        "import tensorflow as tf\n",
        "from tensorflow import keras\n",
        "from sklearn.datasets import load_breast_cancer"
      ],
      "metadata": {
        "id": "Y-SLMCbggijy"
      },
      "execution_count": 1,
      "outputs": []
    },
    {
      "cell_type": "markdown",
      "source": [
        "## Loading the Dataset"
      ],
      "metadata": {
        "id": "AOkrCEAPMBOh"
      }
    },
    {
      "cell_type": "code",
      "source": [
        "data = load_breast_cancer()"
      ],
      "metadata": {
        "id": "YNsIU7V2gimT"
      },
      "execution_count": 2,
      "outputs": []
    },
    {
      "cell_type": "markdown",
      "source": [
        "## Analysing the Dataset"
      ],
      "metadata": {
        "id": "nt--olO4MEfW"
      }
    },
    {
      "cell_type": "code",
      "source": [
        "data"
      ],
      "metadata": {
        "colab": {
          "base_uri": "https://localhost:8080/"
        },
        "id": "E-Tglg8EMN3F",
        "outputId": "225a7078-ddfd-4a0a-e9b1-574b4861ceb8"
      },
      "execution_count": 3,
      "outputs": [
        {
          "output_type": "execute_result",
          "data": {
            "text/plain": [
              "{'data': array([[1.799e+01, 1.038e+01, 1.228e+02, ..., 2.654e-01, 4.601e-01,\n",
              "         1.189e-01],\n",
              "        [2.057e+01, 1.777e+01, 1.329e+02, ..., 1.860e-01, 2.750e-01,\n",
              "         8.902e-02],\n",
              "        [1.969e+01, 2.125e+01, 1.300e+02, ..., 2.430e-01, 3.613e-01,\n",
              "         8.758e-02],\n",
              "        ...,\n",
              "        [1.660e+01, 2.808e+01, 1.083e+02, ..., 1.418e-01, 2.218e-01,\n",
              "         7.820e-02],\n",
              "        [2.060e+01, 2.933e+01, 1.401e+02, ..., 2.650e-01, 4.087e-01,\n",
              "         1.240e-01],\n",
              "        [7.760e+00, 2.454e+01, 4.792e+01, ..., 0.000e+00, 2.871e-01,\n",
              "         7.039e-02]]),\n",
              " 'target': array([0, 0, 0, 0, 0, 0, 0, 0, 0, 0, 0, 0, 0, 0, 0, 0, 0, 0, 0, 1, 1, 1,\n",
              "        0, 0, 0, 0, 0, 0, 0, 0, 0, 0, 0, 0, 0, 0, 0, 1, 0, 0, 0, 0, 0, 0,\n",
              "        0, 0, 1, 0, 1, 1, 1, 1, 1, 0, 0, 1, 0, 0, 1, 1, 1, 1, 0, 1, 0, 0,\n",
              "        1, 1, 1, 1, 0, 1, 0, 0, 1, 0, 1, 0, 0, 1, 1, 1, 0, 0, 1, 0, 0, 0,\n",
              "        1, 1, 1, 0, 1, 1, 0, 0, 1, 1, 1, 0, 0, 1, 1, 1, 1, 0, 1, 1, 0, 1,\n",
              "        1, 1, 1, 1, 1, 1, 1, 0, 0, 0, 1, 0, 0, 1, 1, 1, 0, 0, 1, 0, 1, 0,\n",
              "        0, 1, 0, 0, 1, 1, 0, 1, 1, 0, 1, 1, 1, 1, 0, 1, 1, 1, 1, 1, 1, 1,\n",
              "        1, 1, 0, 1, 1, 1, 1, 0, 0, 1, 0, 1, 1, 0, 0, 1, 1, 0, 0, 1, 1, 1,\n",
              "        1, 0, 1, 1, 0, 0, 0, 1, 0, 1, 0, 1, 1, 1, 0, 1, 1, 0, 0, 1, 0, 0,\n",
              "        0, 0, 1, 0, 0, 0, 1, 0, 1, 0, 1, 1, 0, 1, 0, 0, 0, 0, 1, 1, 0, 0,\n",
              "        1, 1, 1, 0, 1, 1, 1, 1, 1, 0, 0, 1, 1, 0, 1, 1, 0, 0, 1, 0, 1, 1,\n",
              "        1, 1, 0, 1, 1, 1, 1, 1, 0, 1, 0, 0, 0, 0, 0, 0, 0, 0, 0, 0, 0, 0,\n",
              "        0, 0, 1, 1, 1, 1, 1, 1, 0, 1, 0, 1, 1, 0, 1, 1, 0, 1, 0, 0, 1, 1,\n",
              "        1, 1, 1, 1, 1, 1, 1, 1, 1, 1, 1, 0, 1, 1, 0, 1, 0, 1, 1, 1, 1, 1,\n",
              "        1, 1, 1, 1, 1, 1, 1, 1, 1, 0, 1, 1, 1, 0, 1, 0, 1, 1, 1, 1, 0, 0,\n",
              "        0, 1, 1, 1, 1, 0, 1, 0, 1, 0, 1, 1, 1, 0, 1, 1, 1, 1, 1, 1, 1, 0,\n",
              "        0, 0, 1, 1, 1, 1, 1, 1, 1, 1, 1, 1, 1, 0, 0, 1, 0, 0, 0, 1, 0, 0,\n",
              "        1, 1, 1, 1, 1, 0, 1, 1, 1, 1, 1, 0, 1, 1, 1, 0, 1, 1, 0, 0, 1, 1,\n",
              "        1, 1, 1, 1, 0, 1, 1, 1, 1, 1, 1, 1, 0, 1, 1, 1, 1, 1, 0, 1, 1, 0,\n",
              "        1, 1, 1, 1, 1, 1, 1, 1, 1, 1, 1, 1, 0, 1, 0, 0, 1, 0, 1, 1, 1, 1,\n",
              "        1, 0, 1, 1, 0, 1, 0, 1, 1, 0, 1, 0, 1, 1, 1, 1, 1, 1, 1, 1, 0, 0,\n",
              "        1, 1, 1, 1, 1, 1, 0, 1, 1, 1, 1, 1, 1, 1, 1, 1, 1, 0, 1, 1, 1, 1,\n",
              "        1, 1, 1, 0, 1, 0, 1, 1, 0, 1, 1, 1, 1, 1, 0, 0, 1, 0, 1, 0, 1, 1,\n",
              "        1, 1, 1, 0, 1, 1, 0, 1, 0, 1, 0, 0, 1, 1, 1, 0, 1, 1, 1, 1, 1, 1,\n",
              "        1, 1, 1, 1, 1, 0, 1, 0, 0, 1, 1, 1, 1, 1, 1, 1, 1, 1, 1, 1, 1, 1,\n",
              "        1, 1, 1, 1, 1, 1, 1, 1, 1, 1, 1, 1, 0, 0, 0, 0, 0, 0, 1]),\n",
              " 'frame': None,\n",
              " 'target_names': array(['malignant', 'benign'], dtype='<U9'),\n",
              " 'DESCR': '.. _breast_cancer_dataset:\\n\\nBreast cancer wisconsin (diagnostic) dataset\\n--------------------------------------------\\n\\n**Data Set Characteristics:**\\n\\n    :Number of Instances: 569\\n\\n    :Number of Attributes: 30 numeric, predictive attributes and the class\\n\\n    :Attribute Information:\\n        - radius (mean of distances from center to points on the perimeter)\\n        - texture (standard deviation of gray-scale values)\\n        - perimeter\\n        - area\\n        - smoothness (local variation in radius lengths)\\n        - compactness (perimeter^2 / area - 1.0)\\n        - concavity (severity of concave portions of the contour)\\n        - concave points (number of concave portions of the contour)\\n        - symmetry\\n        - fractal dimension (\"coastline approximation\" - 1)\\n\\n        The mean, standard error, and \"worst\" or largest (mean of the three\\n        worst/largest values) of these features were computed for each image,\\n        resulting in 30 features.  For instance, field 0 is Mean Radius, field\\n        10 is Radius SE, field 20 is Worst Radius.\\n\\n        - class:\\n                - WDBC-Malignant\\n                - WDBC-Benign\\n\\n    :Summary Statistics:\\n\\n    ===================================== ====== ======\\n                                           Min    Max\\n    ===================================== ====== ======\\n    radius (mean):                        6.981  28.11\\n    texture (mean):                       9.71   39.28\\n    perimeter (mean):                     43.79  188.5\\n    area (mean):                          143.5  2501.0\\n    smoothness (mean):                    0.053  0.163\\n    compactness (mean):                   0.019  0.345\\n    concavity (mean):                     0.0    0.427\\n    concave points (mean):                0.0    0.201\\n    symmetry (mean):                      0.106  0.304\\n    fractal dimension (mean):             0.05   0.097\\n    radius (standard error):              0.112  2.873\\n    texture (standard error):             0.36   4.885\\n    perimeter (standard error):           0.757  21.98\\n    area (standard error):                6.802  542.2\\n    smoothness (standard error):          0.002  0.031\\n    compactness (standard error):         0.002  0.135\\n    concavity (standard error):           0.0    0.396\\n    concave points (standard error):      0.0    0.053\\n    symmetry (standard error):            0.008  0.079\\n    fractal dimension (standard error):   0.001  0.03\\n    radius (worst):                       7.93   36.04\\n    texture (worst):                      12.02  49.54\\n    perimeter (worst):                    50.41  251.2\\n    area (worst):                         185.2  4254.0\\n    smoothness (worst):                   0.071  0.223\\n    compactness (worst):                  0.027  1.058\\n    concavity (worst):                    0.0    1.252\\n    concave points (worst):               0.0    0.291\\n    symmetry (worst):                     0.156  0.664\\n    fractal dimension (worst):            0.055  0.208\\n    ===================================== ====== ======\\n\\n    :Missing Attribute Values: None\\n\\n    :Class Distribution: 212 - Malignant, 357 - Benign\\n\\n    :Creator:  Dr. William H. Wolberg, W. Nick Street, Olvi L. Mangasarian\\n\\n    :Donor: Nick Street\\n\\n    :Date: November, 1995\\n\\nThis is a copy of UCI ML Breast Cancer Wisconsin (Diagnostic) datasets.\\nhttps://goo.gl/U2Uwz2\\n\\nFeatures are computed from a digitized image of a fine needle\\naspirate (FNA) of a breast mass.  They describe\\ncharacteristics of the cell nuclei present in the image.\\n\\nSeparating plane described above was obtained using\\nMultisurface Method-Tree (MSM-T) [K. P. Bennett, \"Decision Tree\\nConstruction Via Linear Programming.\" Proceedings of the 4th\\nMidwest Artificial Intelligence and Cognitive Science Society,\\npp. 97-101, 1992], a classification method which uses linear\\nprogramming to construct a decision tree.  Relevant features\\nwere selected using an exhaustive search in the space of 1-4\\nfeatures and 1-3 separating planes.\\n\\nThe actual linear program used to obtain the separating plane\\nin the 3-dimensional space is that described in:\\n[K. P. Bennett and O. L. Mangasarian: \"Robust Linear\\nProgramming Discrimination of Two Linearly Inseparable Sets\",\\nOptimization Methods and Software 1, 1992, 23-34].\\n\\nThis database is also available through the UW CS ftp server:\\n\\nftp ftp.cs.wisc.edu\\ncd math-prog/cpo-dataset/machine-learn/WDBC/\\n\\n.. topic:: References\\n\\n   - W.N. Street, W.H. Wolberg and O.L. Mangasarian. Nuclear feature extraction \\n     for breast tumor diagnosis. IS&T/SPIE 1993 International Symposium on \\n     Electronic Imaging: Science and Technology, volume 1905, pages 861-870,\\n     San Jose, CA, 1993.\\n   - O.L. Mangasarian, W.N. Street and W.H. Wolberg. Breast cancer diagnosis and \\n     prognosis via linear programming. Operations Research, 43(4), pages 570-577, \\n     July-August 1995.\\n   - W.H. Wolberg, W.N. Street, and O.L. Mangasarian. Machine learning techniques\\n     to diagnose breast cancer from fine-needle aspirates. Cancer Letters 77 (1994) \\n     163-171.',\n",
              " 'feature_names': array(['mean radius', 'mean texture', 'mean perimeter', 'mean area',\n",
              "        'mean smoothness', 'mean compactness', 'mean concavity',\n",
              "        'mean concave points', 'mean symmetry', 'mean fractal dimension',\n",
              "        'radius error', 'texture error', 'perimeter error', 'area error',\n",
              "        'smoothness error', 'compactness error', 'concavity error',\n",
              "        'concave points error', 'symmetry error',\n",
              "        'fractal dimension error', 'worst radius', 'worst texture',\n",
              "        'worst perimeter', 'worst area', 'worst smoothness',\n",
              "        'worst compactness', 'worst concavity', 'worst concave points',\n",
              "        'worst symmetry', 'worst fractal dimension'], dtype='<U23'),\n",
              " 'filename': 'breast_cancer.csv',\n",
              " 'data_module': 'sklearn.datasets.data'}"
            ]
          },
          "metadata": {},
          "execution_count": 3
        }
      ]
    },
    {
      "cell_type": "code",
      "source": [
        "type(data)"
      ],
      "metadata": {
        "colab": {
          "base_uri": "https://localhost:8080/"
        },
        "id": "RDgxdYJegio7",
        "outputId": "c79de7ce-0a58-47f2-c7d2-020de8544135"
      },
      "execution_count": 4,
      "outputs": [
        {
          "output_type": "execute_result",
          "data": {
            "text/plain": [
              "sklearn.utils._bunch.Bunch"
            ]
          },
          "metadata": {},
          "execution_count": 4
        }
      ]
    },
    {
      "cell_type": "code",
      "source": [
        "data.keys()"
      ],
      "metadata": {
        "colab": {
          "base_uri": "https://localhost:8080/"
        },
        "id": "HQkd_9SggiuY",
        "outputId": "01eb144e-45a1-45bf-e44a-b12de3cc0142"
      },
      "execution_count": 5,
      "outputs": [
        {
          "output_type": "execute_result",
          "data": {
            "text/plain": [
              "dict_keys(['data', 'target', 'frame', 'target_names', 'DESCR', 'feature_names', 'filename', 'data_module'])"
            ]
          },
          "metadata": {},
          "execution_count": 5
        }
      ]
    },
    {
      "cell_type": "code",
      "source": [
        "data.target"
      ],
      "metadata": {
        "colab": {
          "base_uri": "https://localhost:8080/"
        },
        "id": "1YnXo7ZRiUj_",
        "outputId": "5e87fe09-1f08-4a19-c69d-1fe09063753e"
      },
      "execution_count": 6,
      "outputs": [
        {
          "output_type": "execute_result",
          "data": {
            "text/plain": [
              "array([0, 0, 0, 0, 0, 0, 0, 0, 0, 0, 0, 0, 0, 0, 0, 0, 0, 0, 0, 1, 1, 1,\n",
              "       0, 0, 0, 0, 0, 0, 0, 0, 0, 0, 0, 0, 0, 0, 0, 1, 0, 0, 0, 0, 0, 0,\n",
              "       0, 0, 1, 0, 1, 1, 1, 1, 1, 0, 0, 1, 0, 0, 1, 1, 1, 1, 0, 1, 0, 0,\n",
              "       1, 1, 1, 1, 0, 1, 0, 0, 1, 0, 1, 0, 0, 1, 1, 1, 0, 0, 1, 0, 0, 0,\n",
              "       1, 1, 1, 0, 1, 1, 0, 0, 1, 1, 1, 0, 0, 1, 1, 1, 1, 0, 1, 1, 0, 1,\n",
              "       1, 1, 1, 1, 1, 1, 1, 0, 0, 0, 1, 0, 0, 1, 1, 1, 0, 0, 1, 0, 1, 0,\n",
              "       0, 1, 0, 0, 1, 1, 0, 1, 1, 0, 1, 1, 1, 1, 0, 1, 1, 1, 1, 1, 1, 1,\n",
              "       1, 1, 0, 1, 1, 1, 1, 0, 0, 1, 0, 1, 1, 0, 0, 1, 1, 0, 0, 1, 1, 1,\n",
              "       1, 0, 1, 1, 0, 0, 0, 1, 0, 1, 0, 1, 1, 1, 0, 1, 1, 0, 0, 1, 0, 0,\n",
              "       0, 0, 1, 0, 0, 0, 1, 0, 1, 0, 1, 1, 0, 1, 0, 0, 0, 0, 1, 1, 0, 0,\n",
              "       1, 1, 1, 0, 1, 1, 1, 1, 1, 0, 0, 1, 1, 0, 1, 1, 0, 0, 1, 0, 1, 1,\n",
              "       1, 1, 0, 1, 1, 1, 1, 1, 0, 1, 0, 0, 0, 0, 0, 0, 0, 0, 0, 0, 0, 0,\n",
              "       0, 0, 1, 1, 1, 1, 1, 1, 0, 1, 0, 1, 1, 0, 1, 1, 0, 1, 0, 0, 1, 1,\n",
              "       1, 1, 1, 1, 1, 1, 1, 1, 1, 1, 1, 0, 1, 1, 0, 1, 0, 1, 1, 1, 1, 1,\n",
              "       1, 1, 1, 1, 1, 1, 1, 1, 1, 0, 1, 1, 1, 0, 1, 0, 1, 1, 1, 1, 0, 0,\n",
              "       0, 1, 1, 1, 1, 0, 1, 0, 1, 0, 1, 1, 1, 0, 1, 1, 1, 1, 1, 1, 1, 0,\n",
              "       0, 0, 1, 1, 1, 1, 1, 1, 1, 1, 1, 1, 1, 0, 0, 1, 0, 0, 0, 1, 0, 0,\n",
              "       1, 1, 1, 1, 1, 0, 1, 1, 1, 1, 1, 0, 1, 1, 1, 0, 1, 1, 0, 0, 1, 1,\n",
              "       1, 1, 1, 1, 0, 1, 1, 1, 1, 1, 1, 1, 0, 1, 1, 1, 1, 1, 0, 1, 1, 0,\n",
              "       1, 1, 1, 1, 1, 1, 1, 1, 1, 1, 1, 1, 0, 1, 0, 0, 1, 0, 1, 1, 1, 1,\n",
              "       1, 0, 1, 1, 0, 1, 0, 1, 1, 0, 1, 0, 1, 1, 1, 1, 1, 1, 1, 1, 0, 0,\n",
              "       1, 1, 1, 1, 1, 1, 0, 1, 1, 1, 1, 1, 1, 1, 1, 1, 1, 0, 1, 1, 1, 1,\n",
              "       1, 1, 1, 0, 1, 0, 1, 1, 0, 1, 1, 1, 1, 1, 0, 0, 1, 0, 1, 0, 1, 1,\n",
              "       1, 1, 1, 0, 1, 1, 0, 1, 0, 1, 0, 0, 1, 1, 1, 0, 1, 1, 1, 1, 1, 1,\n",
              "       1, 1, 1, 1, 1, 0, 1, 0, 0, 1, 1, 1, 1, 1, 1, 1, 1, 1, 1, 1, 1, 1,\n",
              "       1, 1, 1, 1, 1, 1, 1, 1, 1, 1, 1, 1, 0, 0, 0, 0, 0, 0, 1])"
            ]
          },
          "metadata": {},
          "execution_count": 6
        }
      ]
    },
    {
      "cell_type": "code",
      "source": [
        "data.target.shape"
      ],
      "metadata": {
        "colab": {
          "base_uri": "https://localhost:8080/"
        },
        "id": "gpLhgkfViC27",
        "outputId": "230686e0-8a07-4a82-c8ad-fcd57878ae01"
      },
      "execution_count": 7,
      "outputs": [
        {
          "output_type": "execute_result",
          "data": {
            "text/plain": [
              "(569,)"
            ]
          },
          "metadata": {},
          "execution_count": 7
        }
      ]
    },
    {
      "cell_type": "code",
      "source": [
        "data.target_names"
      ],
      "metadata": {
        "colab": {
          "base_uri": "https://localhost:8080/"
        },
        "id": "tl5XfQ_KiC5y",
        "outputId": "7b0f1967-fdca-4489-de42-b07c7c54e307"
      },
      "execution_count": 8,
      "outputs": [
        {
          "output_type": "execute_result",
          "data": {
            "text/plain": [
              "array(['malignant', 'benign'], dtype='<U9')"
            ]
          },
          "metadata": {},
          "execution_count": 8
        }
      ]
    },
    {
      "cell_type": "code",
      "source": [
        "data.feature_names"
      ],
      "metadata": {
        "colab": {
          "base_uri": "https://localhost:8080/"
        },
        "id": "RQjCmdcwiC8p",
        "outputId": "ac4d8d8b-0aaa-430e-92df-e3fba700e7e9"
      },
      "execution_count": 9,
      "outputs": [
        {
          "output_type": "execute_result",
          "data": {
            "text/plain": [
              "array(['mean radius', 'mean texture', 'mean perimeter', 'mean area',\n",
              "       'mean smoothness', 'mean compactness', 'mean concavity',\n",
              "       'mean concave points', 'mean symmetry', 'mean fractal dimension',\n",
              "       'radius error', 'texture error', 'perimeter error', 'area error',\n",
              "       'smoothness error', 'compactness error', 'concavity error',\n",
              "       'concave points error', 'symmetry error',\n",
              "       'fractal dimension error', 'worst radius', 'worst texture',\n",
              "       'worst perimeter', 'worst area', 'worst smoothness',\n",
              "       'worst compactness', 'worst concavity', 'worst concave points',\n",
              "       'worst symmetry', 'worst fractal dimension'], dtype='<U23')"
            ]
          },
          "metadata": {},
          "execution_count": 9
        }
      ]
    },
    {
      "cell_type": "markdown",
      "source": [
        "## Splitting the data and scaling it"
      ],
      "metadata": {
        "id": "n8WzY9ZdMT2Z"
      }
    },
    {
      "cell_type": "code",
      "source": [
        "from sklearn.model_selection import train_test_split\n",
        "\n",
        "X_train, X_test, y_train, y_test = train_test_split(data.data, data.target, test_size=0.25)"
      ],
      "metadata": {
        "id": "DeVmjF53gixN"
      },
      "execution_count": 10,
      "outputs": []
    },
    {
      "cell_type": "code",
      "source": [
        "N, D = X_train.shape"
      ],
      "metadata": {
        "id": "n8SmcO3ygiz0"
      },
      "execution_count": 11,
      "outputs": []
    },
    {
      "cell_type": "code",
      "source": [
        "from sklearn.preprocessing import StandardScaler\n",
        "\n",
        "scaler = StandardScaler()\n",
        "X_train = scaler.fit_transform(X_train)\n",
        "X_test = scaler.transform(X_test)"
      ],
      "metadata": {
        "id": "Y878_Zxwgi2c"
      },
      "execution_count": 12,
      "outputs": []
    },
    {
      "cell_type": "markdown",
      "source": [
        "## Training the model"
      ],
      "metadata": {
        "id": "T7q6KlI9Mbma"
      }
    },
    {
      "cell_type": "code",
      "source": [
        "model = tf.keras.models.Sequential([\n",
        "    tf.keras.layers.Input(shape=(D,)),\n",
        "    tf.keras.layers.Dense(1, activation='sigmoid')\n",
        "])"
      ],
      "metadata": {
        "id": "LFQhZkIvgi5j"
      },
      "execution_count": 13,
      "outputs": []
    },
    {
      "cell_type": "code",
      "source": [
        "model.compile(optimizer='adam', loss='binary_crossentropy', metrics=['accuracy'])"
      ],
      "metadata": {
        "id": "3gWvahF3gi8J"
      },
      "execution_count": 14,
      "outputs": []
    },
    {
      "cell_type": "code",
      "source": [
        "r = model.fit(X_train, y_train, validation_data=(X_test, y_test), epochs=100)"
      ],
      "metadata": {
        "colab": {
          "base_uri": "https://localhost:8080/"
        },
        "id": "QRuHkDO_ld8Q",
        "outputId": "ba29372d-58e1-4e68-cd63-42640a5d997d"
      },
      "execution_count": 15,
      "outputs": [
        {
          "output_type": "stream",
          "name": "stdout",
          "text": [
            "Epoch 1/100\n",
            "14/14 [==============================] - 3s 62ms/step - loss: 1.9486 - accuracy: 0.1009 - val_loss: 2.1801 - val_accuracy: 0.0979\n",
            "Epoch 2/100\n",
            "14/14 [==============================] - 0s 14ms/step - loss: 1.8045 - accuracy: 0.1080 - val_loss: 1.9987 - val_accuracy: 0.1259\n",
            "Epoch 3/100\n",
            "14/14 [==============================] - 0s 15ms/step - loss: 1.6647 - accuracy: 0.1432 - val_loss: 1.8306 - val_accuracy: 0.1469\n",
            "Epoch 4/100\n",
            "14/14 [==============================] - 0s 16ms/step - loss: 1.5353 - accuracy: 0.1573 - val_loss: 1.6717 - val_accuracy: 0.1538\n",
            "Epoch 5/100\n",
            "14/14 [==============================] - 0s 8ms/step - loss: 1.4145 - accuracy: 0.2042 - val_loss: 1.5228 - val_accuracy: 0.1818\n",
            "Epoch 6/100\n",
            "14/14 [==============================] - 0s 12ms/step - loss: 1.3004 - accuracy: 0.2371 - val_loss: 1.3864 - val_accuracy: 0.2238\n",
            "Epoch 7/100\n",
            "14/14 [==============================] - 0s 8ms/step - loss: 1.1962 - accuracy: 0.2981 - val_loss: 1.2574 - val_accuracy: 0.2867\n",
            "Epoch 8/100\n",
            "14/14 [==============================] - 0s 9ms/step - loss: 1.1007 - accuracy: 0.3404 - val_loss: 1.1443 - val_accuracy: 0.3217\n",
            "Epoch 9/100\n",
            "14/14 [==============================] - 0s 7ms/step - loss: 1.0143 - accuracy: 0.4131 - val_loss: 1.0417 - val_accuracy: 0.3776\n",
            "Epoch 10/100\n",
            "14/14 [==============================] - 0s 11ms/step - loss: 0.9367 - accuracy: 0.4601 - val_loss: 0.9469 - val_accuracy: 0.4196\n",
            "Epoch 11/100\n",
            "14/14 [==============================] - 0s 14ms/step - loss: 0.8690 - accuracy: 0.5047 - val_loss: 0.8600 - val_accuracy: 0.4476\n",
            "Epoch 12/100\n",
            "14/14 [==============================] - 0s 26ms/step - loss: 0.8042 - accuracy: 0.5423 - val_loss: 0.7869 - val_accuracy: 0.4895\n",
            "Epoch 13/100\n",
            "14/14 [==============================] - 0s 14ms/step - loss: 0.7485 - accuracy: 0.5845 - val_loss: 0.7210 - val_accuracy: 0.5664\n",
            "Epoch 14/100\n",
            "14/14 [==============================] - 0s 7ms/step - loss: 0.6995 - accuracy: 0.6221 - val_loss: 0.6612 - val_accuracy: 0.6014\n",
            "Epoch 15/100\n",
            "14/14 [==============================] - 0s 20ms/step - loss: 0.6533 - accuracy: 0.6573 - val_loss: 0.6104 - val_accuracy: 0.6364\n",
            "Epoch 16/100\n",
            "14/14 [==============================] - 0s 13ms/step - loss: 0.6145 - accuracy: 0.7042 - val_loss: 0.5648 - val_accuracy: 0.7133\n",
            "Epoch 17/100\n",
            "14/14 [==============================] - 0s 8ms/step - loss: 0.5785 - accuracy: 0.7254 - val_loss: 0.5263 - val_accuracy: 0.7413\n",
            "Epoch 18/100\n",
            "14/14 [==============================] - 0s 9ms/step - loss: 0.5462 - accuracy: 0.7512 - val_loss: 0.4916 - val_accuracy: 0.7622\n",
            "Epoch 19/100\n",
            "14/14 [==============================] - 0s 16ms/step - loss: 0.5169 - accuracy: 0.7653 - val_loss: 0.4617 - val_accuracy: 0.7902\n",
            "Epoch 20/100\n",
            "14/14 [==============================] - 0s 8ms/step - loss: 0.4919 - accuracy: 0.7770 - val_loss: 0.4355 - val_accuracy: 0.8252\n",
            "Epoch 21/100\n",
            "14/14 [==============================] - 0s 17ms/step - loss: 0.4687 - accuracy: 0.7958 - val_loss: 0.4129 - val_accuracy: 0.8392\n",
            "Epoch 22/100\n",
            "14/14 [==============================] - 0s 10ms/step - loss: 0.4480 - accuracy: 0.8075 - val_loss: 0.3917 - val_accuracy: 0.8462\n",
            "Epoch 23/100\n",
            "14/14 [==============================] - 0s 4ms/step - loss: 0.4291 - accuracy: 0.8216 - val_loss: 0.3732 - val_accuracy: 0.8601\n",
            "Epoch 24/100\n",
            "14/14 [==============================] - 0s 5ms/step - loss: 0.4116 - accuracy: 0.8357 - val_loss: 0.3569 - val_accuracy: 0.8741\n",
            "Epoch 25/100\n",
            "14/14 [==============================] - 0s 6ms/step - loss: 0.3964 - accuracy: 0.8498 - val_loss: 0.3420 - val_accuracy: 0.9021\n",
            "Epoch 26/100\n",
            "14/14 [==============================] - 0s 5ms/step - loss: 0.3817 - accuracy: 0.8638 - val_loss: 0.3286 - val_accuracy: 0.9091\n",
            "Epoch 27/100\n",
            "14/14 [==============================] - 0s 5ms/step - loss: 0.3689 - accuracy: 0.8685 - val_loss: 0.3160 - val_accuracy: 0.9091\n",
            "Epoch 28/100\n",
            "14/14 [==============================] - 0s 6ms/step - loss: 0.3560 - accuracy: 0.8732 - val_loss: 0.3049 - val_accuracy: 0.9161\n",
            "Epoch 29/100\n",
            "14/14 [==============================] - 0s 4ms/step - loss: 0.3445 - accuracy: 0.8732 - val_loss: 0.2944 - val_accuracy: 0.9231\n",
            "Epoch 30/100\n",
            "14/14 [==============================] - 0s 5ms/step - loss: 0.3335 - accuracy: 0.8803 - val_loss: 0.2847 - val_accuracy: 0.9301\n",
            "Epoch 31/100\n",
            "14/14 [==============================] - 0s 5ms/step - loss: 0.3237 - accuracy: 0.8826 - val_loss: 0.2754 - val_accuracy: 0.9301\n",
            "Epoch 32/100\n",
            "14/14 [==============================] - 0s 4ms/step - loss: 0.3140 - accuracy: 0.8920 - val_loss: 0.2671 - val_accuracy: 0.9371\n",
            "Epoch 33/100\n",
            "14/14 [==============================] - 0s 4ms/step - loss: 0.3052 - accuracy: 0.9014 - val_loss: 0.2595 - val_accuracy: 0.9371\n",
            "Epoch 34/100\n",
            "14/14 [==============================] - 0s 4ms/step - loss: 0.2970 - accuracy: 0.9061 - val_loss: 0.2521 - val_accuracy: 0.9441\n",
            "Epoch 35/100\n",
            "14/14 [==============================] - 0s 4ms/step - loss: 0.2891 - accuracy: 0.9085 - val_loss: 0.2454 - val_accuracy: 0.9441\n",
            "Epoch 36/100\n",
            "14/14 [==============================] - 0s 5ms/step - loss: 0.2820 - accuracy: 0.9131 - val_loss: 0.2391 - val_accuracy: 0.9441\n",
            "Epoch 37/100\n",
            "14/14 [==============================] - 0s 5ms/step - loss: 0.2752 - accuracy: 0.9178 - val_loss: 0.2335 - val_accuracy: 0.9441\n",
            "Epoch 38/100\n",
            "14/14 [==============================] - 0s 4ms/step - loss: 0.2687 - accuracy: 0.9202 - val_loss: 0.2279 - val_accuracy: 0.9441\n",
            "Epoch 39/100\n",
            "14/14 [==============================] - 0s 4ms/step - loss: 0.2626 - accuracy: 0.9249 - val_loss: 0.2226 - val_accuracy: 0.9441\n",
            "Epoch 40/100\n",
            "14/14 [==============================] - 0s 6ms/step - loss: 0.2566 - accuracy: 0.9296 - val_loss: 0.2176 - val_accuracy: 0.9441\n",
            "Epoch 41/100\n",
            "14/14 [==============================] - 0s 5ms/step - loss: 0.2511 - accuracy: 0.9319 - val_loss: 0.2128 - val_accuracy: 0.9441\n",
            "Epoch 42/100\n",
            "14/14 [==============================] - 0s 4ms/step - loss: 0.2458 - accuracy: 0.9343 - val_loss: 0.2084 - val_accuracy: 0.9510\n",
            "Epoch 43/100\n",
            "14/14 [==============================] - 0s 5ms/step - loss: 0.2409 - accuracy: 0.9343 - val_loss: 0.2040 - val_accuracy: 0.9510\n",
            "Epoch 44/100\n",
            "14/14 [==============================] - 0s 6ms/step - loss: 0.2361 - accuracy: 0.9390 - val_loss: 0.2000 - val_accuracy: 0.9510\n",
            "Epoch 45/100\n",
            "14/14 [==============================] - 0s 5ms/step - loss: 0.2315 - accuracy: 0.9390 - val_loss: 0.1964 - val_accuracy: 0.9510\n",
            "Epoch 46/100\n",
            "14/14 [==============================] - 0s 6ms/step - loss: 0.2273 - accuracy: 0.9390 - val_loss: 0.1929 - val_accuracy: 0.9510\n",
            "Epoch 47/100\n",
            "14/14 [==============================] - 0s 4ms/step - loss: 0.2231 - accuracy: 0.9390 - val_loss: 0.1894 - val_accuracy: 0.9510\n",
            "Epoch 48/100\n",
            "14/14 [==============================] - 0s 4ms/step - loss: 0.2191 - accuracy: 0.9413 - val_loss: 0.1862 - val_accuracy: 0.9510\n",
            "Epoch 49/100\n",
            "14/14 [==============================] - 0s 5ms/step - loss: 0.2152 - accuracy: 0.9413 - val_loss: 0.1833 - val_accuracy: 0.9510\n",
            "Epoch 50/100\n",
            "14/14 [==============================] - 0s 5ms/step - loss: 0.2116 - accuracy: 0.9413 - val_loss: 0.1803 - val_accuracy: 0.9510\n",
            "Epoch 51/100\n",
            "14/14 [==============================] - 0s 5ms/step - loss: 0.2081 - accuracy: 0.9437 - val_loss: 0.1777 - val_accuracy: 0.9510\n",
            "Epoch 52/100\n",
            "14/14 [==============================] - 0s 5ms/step - loss: 0.2047 - accuracy: 0.9437 - val_loss: 0.1750 - val_accuracy: 0.9510\n",
            "Epoch 53/100\n",
            "14/14 [==============================] - 0s 4ms/step - loss: 0.2015 - accuracy: 0.9437 - val_loss: 0.1725 - val_accuracy: 0.9510\n",
            "Epoch 54/100\n",
            "14/14 [==============================] - 0s 5ms/step - loss: 0.1983 - accuracy: 0.9460 - val_loss: 0.1701 - val_accuracy: 0.9510\n",
            "Epoch 55/100\n",
            "14/14 [==============================] - 0s 5ms/step - loss: 0.1953 - accuracy: 0.9460 - val_loss: 0.1678 - val_accuracy: 0.9510\n",
            "Epoch 56/100\n",
            "14/14 [==============================] - 0s 4ms/step - loss: 0.1925 - accuracy: 0.9531 - val_loss: 0.1655 - val_accuracy: 0.9510\n",
            "Epoch 57/100\n",
            "14/14 [==============================] - 0s 5ms/step - loss: 0.1897 - accuracy: 0.9531 - val_loss: 0.1633 - val_accuracy: 0.9510\n",
            "Epoch 58/100\n",
            "14/14 [==============================] - 0s 5ms/step - loss: 0.1869 - accuracy: 0.9577 - val_loss: 0.1612 - val_accuracy: 0.9510\n",
            "Epoch 59/100\n",
            "14/14 [==============================] - 0s 5ms/step - loss: 0.1844 - accuracy: 0.9624 - val_loss: 0.1593 - val_accuracy: 0.9510\n",
            "Epoch 60/100\n",
            "14/14 [==============================] - 0s 4ms/step - loss: 0.1818 - accuracy: 0.9624 - val_loss: 0.1574 - val_accuracy: 0.9510\n",
            "Epoch 61/100\n",
            "14/14 [==============================] - 0s 5ms/step - loss: 0.1794 - accuracy: 0.9624 - val_loss: 0.1556 - val_accuracy: 0.9510\n",
            "Epoch 62/100\n",
            "14/14 [==============================] - 0s 6ms/step - loss: 0.1770 - accuracy: 0.9624 - val_loss: 0.1539 - val_accuracy: 0.9510\n",
            "Epoch 63/100\n",
            "14/14 [==============================] - 0s 6ms/step - loss: 0.1747 - accuracy: 0.9648 - val_loss: 0.1522 - val_accuracy: 0.9510\n",
            "Epoch 64/100\n",
            "14/14 [==============================] - 0s 6ms/step - loss: 0.1725 - accuracy: 0.9648 - val_loss: 0.1505 - val_accuracy: 0.9510\n",
            "Epoch 65/100\n",
            "14/14 [==============================] - 0s 5ms/step - loss: 0.1703 - accuracy: 0.9648 - val_loss: 0.1489 - val_accuracy: 0.9510\n",
            "Epoch 66/100\n",
            "14/14 [==============================] - 0s 5ms/step - loss: 0.1682 - accuracy: 0.9671 - val_loss: 0.1473 - val_accuracy: 0.9510\n",
            "Epoch 67/100\n",
            "14/14 [==============================] - 0s 5ms/step - loss: 0.1662 - accuracy: 0.9671 - val_loss: 0.1459 - val_accuracy: 0.9510\n",
            "Epoch 68/100\n",
            "14/14 [==============================] - 0s 4ms/step - loss: 0.1642 - accuracy: 0.9671 - val_loss: 0.1445 - val_accuracy: 0.9510\n",
            "Epoch 69/100\n",
            "14/14 [==============================] - 0s 4ms/step - loss: 0.1624 - accuracy: 0.9671 - val_loss: 0.1431 - val_accuracy: 0.9510\n",
            "Epoch 70/100\n",
            "14/14 [==============================] - 0s 5ms/step - loss: 0.1605 - accuracy: 0.9671 - val_loss: 0.1417 - val_accuracy: 0.9510\n",
            "Epoch 71/100\n",
            "14/14 [==============================] - 0s 5ms/step - loss: 0.1587 - accuracy: 0.9671 - val_loss: 0.1406 - val_accuracy: 0.9510\n",
            "Epoch 72/100\n",
            "14/14 [==============================] - 0s 4ms/step - loss: 0.1570 - accuracy: 0.9671 - val_loss: 0.1394 - val_accuracy: 0.9510\n",
            "Epoch 73/100\n",
            "14/14 [==============================] - 0s 5ms/step - loss: 0.1553 - accuracy: 0.9695 - val_loss: 0.1383 - val_accuracy: 0.9510\n",
            "Epoch 74/100\n",
            "14/14 [==============================] - 0s 5ms/step - loss: 0.1537 - accuracy: 0.9695 - val_loss: 0.1371 - val_accuracy: 0.9510\n",
            "Epoch 75/100\n",
            "14/14 [==============================] - 0s 4ms/step - loss: 0.1521 - accuracy: 0.9695 - val_loss: 0.1360 - val_accuracy: 0.9510\n",
            "Epoch 76/100\n",
            "14/14 [==============================] - 0s 4ms/step - loss: 0.1505 - accuracy: 0.9695 - val_loss: 0.1349 - val_accuracy: 0.9510\n",
            "Epoch 77/100\n",
            "14/14 [==============================] - 0s 5ms/step - loss: 0.1489 - accuracy: 0.9695 - val_loss: 0.1338 - val_accuracy: 0.9510\n",
            "Epoch 78/100\n",
            "14/14 [==============================] - 0s 4ms/step - loss: 0.1475 - accuracy: 0.9695 - val_loss: 0.1327 - val_accuracy: 0.9510\n",
            "Epoch 79/100\n",
            "14/14 [==============================] - 0s 5ms/step - loss: 0.1459 - accuracy: 0.9695 - val_loss: 0.1317 - val_accuracy: 0.9580\n",
            "Epoch 80/100\n",
            "14/14 [==============================] - 0s 5ms/step - loss: 0.1445 - accuracy: 0.9695 - val_loss: 0.1308 - val_accuracy: 0.9580\n",
            "Epoch 81/100\n",
            "14/14 [==============================] - 0s 5ms/step - loss: 0.1431 - accuracy: 0.9695 - val_loss: 0.1299 - val_accuracy: 0.9580\n",
            "Epoch 82/100\n",
            "14/14 [==============================] - 0s 6ms/step - loss: 0.1417 - accuracy: 0.9695 - val_loss: 0.1290 - val_accuracy: 0.9580\n",
            "Epoch 83/100\n",
            "14/14 [==============================] - 0s 4ms/step - loss: 0.1404 - accuracy: 0.9695 - val_loss: 0.1281 - val_accuracy: 0.9580\n",
            "Epoch 84/100\n",
            "14/14 [==============================] - 0s 5ms/step - loss: 0.1391 - accuracy: 0.9695 - val_loss: 0.1272 - val_accuracy: 0.9580\n",
            "Epoch 85/100\n",
            "14/14 [==============================] - 0s 4ms/step - loss: 0.1378 - accuracy: 0.9695 - val_loss: 0.1264 - val_accuracy: 0.9580\n",
            "Epoch 86/100\n",
            "14/14 [==============================] - 0s 5ms/step - loss: 0.1367 - accuracy: 0.9695 - val_loss: 0.1256 - val_accuracy: 0.9580\n",
            "Epoch 87/100\n",
            "14/14 [==============================] - 0s 4ms/step - loss: 0.1354 - accuracy: 0.9695 - val_loss: 0.1248 - val_accuracy: 0.9580\n",
            "Epoch 88/100\n",
            "14/14 [==============================] - 0s 5ms/step - loss: 0.1342 - accuracy: 0.9695 - val_loss: 0.1241 - val_accuracy: 0.9580\n",
            "Epoch 89/100\n",
            "14/14 [==============================] - 0s 4ms/step - loss: 0.1331 - accuracy: 0.9695 - val_loss: 0.1234 - val_accuracy: 0.9580\n",
            "Epoch 90/100\n",
            "14/14 [==============================] - 0s 6ms/step - loss: 0.1319 - accuracy: 0.9695 - val_loss: 0.1227 - val_accuracy: 0.9580\n",
            "Epoch 91/100\n",
            "14/14 [==============================] - 0s 4ms/step - loss: 0.1308 - accuracy: 0.9695 - val_loss: 0.1220 - val_accuracy: 0.9580\n",
            "Epoch 92/100\n",
            "14/14 [==============================] - 0s 5ms/step - loss: 0.1298 - accuracy: 0.9695 - val_loss: 0.1214 - val_accuracy: 0.9580\n",
            "Epoch 93/100\n",
            "14/14 [==============================] - 0s 5ms/step - loss: 0.1287 - accuracy: 0.9695 - val_loss: 0.1207 - val_accuracy: 0.9580\n",
            "Epoch 94/100\n",
            "14/14 [==============================] - 0s 5ms/step - loss: 0.1277 - accuracy: 0.9695 - val_loss: 0.1201 - val_accuracy: 0.9580\n",
            "Epoch 95/100\n",
            "14/14 [==============================] - 0s 6ms/step - loss: 0.1267 - accuracy: 0.9695 - val_loss: 0.1195 - val_accuracy: 0.9580\n",
            "Epoch 96/100\n",
            "14/14 [==============================] - 0s 5ms/step - loss: 0.1257 - accuracy: 0.9695 - val_loss: 0.1189 - val_accuracy: 0.9580\n",
            "Epoch 97/100\n",
            "14/14 [==============================] - 0s 7ms/step - loss: 0.1248 - accuracy: 0.9695 - val_loss: 0.1182 - val_accuracy: 0.9580\n",
            "Epoch 98/100\n",
            "14/14 [==============================] - 0s 8ms/step - loss: 0.1237 - accuracy: 0.9695 - val_loss: 0.1177 - val_accuracy: 0.9580\n",
            "Epoch 99/100\n",
            "14/14 [==============================] - 0s 8ms/step - loss: 0.1228 - accuracy: 0.9695 - val_loss: 0.1171 - val_accuracy: 0.9580\n",
            "Epoch 100/100\n",
            "14/14 [==============================] - 0s 8ms/step - loss: 0.1219 - accuracy: 0.9695 - val_loss: 0.1166 - val_accuracy: 0.9580\n"
          ]
        }
      ]
    },
    {
      "cell_type": "markdown",
      "source": [
        "## Plotting the loss and accuracy of training and testing datasets"
      ],
      "metadata": {
        "id": "3AHwDf1JMh4k"
      }
    },
    {
      "cell_type": "code",
      "source": [
        "import matplotlib.pyplot as plt\n",
        "\n",
        "plt.plot(r.history['loss'], label='loss')\n",
        "plt.plot(r.history['val_loss'], label='val_loss')\n",
        "plt.legend();"
      ],
      "metadata": {
        "colab": {
          "base_uri": "https://localhost:8080/",
          "height": 430
        },
        "id": "FvAS8J3Wld_G",
        "outputId": "efbc4d54-93c9-476a-d342-7256bb1bd5d0"
      },
      "execution_count": 16,
      "outputs": [
        {
          "output_type": "display_data",
          "data": {
            "text/plain": [
              "<Figure size 640x480 with 1 Axes>"
            ],
            "image/png": "[encoded data removed]"
          },
          "metadata": {}
        }
      ]
    },
    {
      "cell_type": "code",
      "source": [
        "plt.plot(r.history['accuracy'], label='accuracy')\n",
        "plt.plot(r.history['val_accuracy'], label='val_accuracy')\n",
        "plt.legend();"
      ],
      "metadata": {
        "colab": {
          "base_uri": "https://localhost:8080/",
          "height": 430
        },
        "id": "Js9Ax0mLovBJ",
        "outputId": "54d93eca-be52-45d2-a00f-feeb31bff536"
      },
      "execution_count": 17,
      "outputs": [
        {
          "output_type": "display_data",
          "data": {
            "text/plain": [
              "<Figure size 640x480 with 1 Axes>"
            ],
            "image/png": "[encoded data removed]"
          },
          "metadata": {}
        }
      ]
    },
    {
      "cell_type": "markdown",
      "source": [
        "## Model Evaluation"
      ],
      "metadata": {
        "id": "Uc9Vj0YsRh9G"
      }
    },
    {
      "cell_type": "code",
      "source": [
        "# Output is of the form [loss, accuracy]\n",
        "print(f\"Train score: {model.evaluate(X_train, y_train)}\")"
      ],
      "metadata": {
        "colab": {
          "base_uri": "https://localhost:8080/"
        },
        "id": "zwChm5FFgi_B",
        "outputId": "235446d8-03a4-4032-a98e-fe36e3ca9cdc"
      },
      "execution_count": 20,
      "outputs": [
        {
          "output_type": "stream",
          "name": "stdout",
          "text": [
            "14/14 [==============================] - 0s 3ms/step - loss: 0.1213 - accuracy: 0.9695\n",
            "Train score: [0.12134286761283875, 0.9694835543632507]\n"
          ]
        }
      ]
    },
    {
      "cell_type": "code",
      "source": [
        "print(f\"Test score: {model.evaluate(X_test, y_test)}\")"
      ],
      "metadata": {
        "colab": {
          "base_uri": "https://localhost:8080/"
        },
        "id": "w1EeaqamgjBp",
        "outputId": "800d634c-d83d-423c-88d5-daa52f531334"
      },
      "execution_count": 21,
      "outputs": [
        {
          "output_type": "stream",
          "name": "stdout",
          "text": [
            "5/5 [==============================] - 0s 4ms/step - loss: 0.1166 - accuracy: 0.9580\n",
            "Test score: [0.11661070585250854, 0.9580419659614563]\n"
          ]
        }
      ]
    }
  ]
}